{
 "cells": [
  {
   "cell_type": "markdown",
   "metadata": {},
   "source": [
    "Plotter for SL case studies \n",
    "Plots consumer welfare vs. # agents for varying info. eff."
   ]
  },
  {
   "cell_type": "code",
   "execution_count": null,
   "metadata": {},
   "outputs": [],
   "source": [
    "from analysis_utils import *\n",
    "import torch\n",
    "import torch.nn.functional as F\n",
    "import pickle\n",
    "import glob\n",
    "import json\n",
    "import os\n",
    "import sys\n",
    "sys.path.insert(0,'..')\n",
    "\n",
    "from data import *\n",
    "from agent import *\n",
    "from auction import *\n",
    "from user import *\n",
    "from simulator import *"
   ]
  },
  {
   "cell_type": "code",
   "execution_count": null,
   "metadata": {},
   "outputs": [],
   "source": [
    "#TODO:\n",
    "#fill in path and experiment names here\n",
    "outpath = ''\n",
    "expname = ''\n",
    "outpath = f\"{outpath}/{expname}\"\n",
    "E = json.load(open(f'{outpath}/experiment.json'))"
   ]
  },
  {
   "cell_type": "code",
   "execution_count": null,
   "metadata": {},
   "outputs": [],
   "source": [
    "#utility function defined in this block\n",
    "\n",
    "from collections import defaultdict\n",
    "def seed_join(configs):\n",
    "    d = defaultdict(lambda : defaultdict(list))\n",
    "    for i,config in enumerate(configs):\n",
    "        if config != None:\n",
    "            eff = config['auction_args']['alpha']\n",
    "            l = len(config['agents'])\n",
    "            d[eff][l].append(i)\n",
    "    return d\n",
    "\n",
    "def autonamer():\n",
    "    learn_algo = '' #i.e.  learnalgo undetected\n",
    "    if configs[0]['agents'][0]['class'] == knnAgent:\n",
    "        learn_algo = 'NN'\n",
    "\n",
    "    dataset = '' #i.e.  dataset undetected\n",
    "    if configs[0]['dataset'] == mnist:\n",
    "        dataset = 'MNIST'\n",
    "    elif configs[0]['dataset'] == fashion_mnist:\n",
    "        dataset = 'Fashion-MNIST'\n",
    "    return learn_algo, dataset"
   ]
  },
  {
   "cell_type": "code",
   "execution_count": null,
   "metadata": {},
   "outputs": [],
   "source": [
    "'''\n",
    "Run this cell to load in the logs!\n",
    "'''\n",
    "configs, data_logs = depickler_special(outpath)\n",
    "assert E['n_runs'] == len(configs) and E['n_runs'] == len(data_logs)"
   ]
  },
  {
   "cell_type": "code",
   "execution_count": null,
   "metadata": {},
   "outputs": [],
   "source": []
  }
 ],
 "metadata": {
  "kernelspec": {
   "display_name": "Python 3",
   "language": "python",
   "name": "python3"
  },
  "language_info": {
   "codemirror_mode": {
    "name": "ipython",
    "version": 3
   },
   "file_extension": ".py",
   "mimetype": "text/x-python",
   "name": "python",
   "nbconvert_exporter": "python",
   "pygments_lexer": "ipython3",
   "version": "3.6.9"
  }
 },
 "nbformat": 4,
 "nbformat_minor": 2
}
